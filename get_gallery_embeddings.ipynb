{
 "cells": [
  {
   "cell_type": "code",
   "execution_count": 1,
   "id": "cf9669dd",
   "metadata": {},
   "outputs": [],
   "source": [
    "# importing dependencies for dlib\n",
    "\n",
    "import dlib\n",
    "dlib.DLIB_USE_CUDA = True\n",
    "from my_dlib_funcs import *\n",
    "import numpy as np\n",
    "import pandas as pd"
   ]
  },
  {
   "cell_type": "code",
   "execution_count": null,
   "id": "c913cbbf",
   "metadata": {},
   "outputs": [
    {
     "ename": "RuntimeError",
     "evalue": "Unable to open models/mmod_human_face_detector.dat for reading.",
     "output_type": "error",
     "traceback": [
      "\u001b[31m---------------------------------------------------------------------------\u001b[39m",
      "\u001b[31mRuntimeError\u001b[39m                              Traceback (most recent call last)",
      "\u001b[36mCell\u001b[39m\u001b[36m \u001b[39m\u001b[32mIn[2]\u001b[39m\u001b[32m, line 9\u001b[39m\n\u001b[32m      6\u001b[39m shape_predictor_path = \u001b[33m\"\u001b[39m\u001b[33mmodels/shape_predictor_68_face_landmarks_GTX.dat\u001b[39m\u001b[33m\"\u001b[39m\n\u001b[32m      7\u001b[39m face_recognition_model_path = \u001b[33m\"\u001b[39m\u001b[33mmodels/dlib_face_recognition_resnet_model_v1.dat\u001b[39m\u001b[33m\"\u001b[39m\n\u001b[32m----> \u001b[39m\u001b[32m9\u001b[39m cnn_face_detector = \u001b[43mdlib\u001b[49m\u001b[43m.\u001b[49m\u001b[43mcnn_face_detection_model_v1\u001b[49m\u001b[43m(\u001b[49m\u001b[43mcnn_model_path\u001b[49m\u001b[43m)\u001b[49m\n\u001b[32m     10\u001b[39m predictor = dlib.shape_predictor(shape_predictor_path)\n\u001b[32m     11\u001b[39m face_rec = dlib.face_recognition_model_v1(face_recognition_model_path)\n",
      "\u001b[31mRuntimeError\u001b[39m: Unable to open models/mmod_human_face_detector.dat for reading."
     ]
    }
   ],
   "source": [
    "# loading embedding dependecies\n",
    "\n",
    "gallery = \"bbt_gallery/\"\n",
    "cropped_queries = \"cropped_queries/\"\n",
    "cnn_model_path = \"../models/mmod_human_face_detector.dat\"\n",
    "shape_predictor_path = \"models/shape_predictor_68_face_landmarks_GTX.dat\"\n",
    "face_recognition_model_path = \"models/dlib_face_recognition_resnet_model_v1.dat\"\n",
    "\n",
    "cnn_face_detector = dlib.cnn_face_detection_model_v1(cnn_model_path)\n",
    "predictor = dlib.shape_predictor(shape_predictor_path)\n",
    "face_rec = dlib.face_recognition_model_v1(face_recognition_model_path)"
   ]
  },
  {
   "cell_type": "code",
   "execution_count": 3,
   "id": "610dc56e",
   "metadata": {},
   "outputs": [
    {
     "name": "stdout",
     "output_type": "stream",
     "text": [
      "Number of faces detected: 1\n",
      "Number of faces detected: 1\n",
      "Number of faces detected: 1\n",
      "Number of faces detected: 1\n",
      "Number of faces detected: 1\n",
      "Number of faces detected: 1\n",
      "Number of faces detected: 1\n",
      "Number of faces detected: 1\n",
      "Number of faces detected: 1\n",
      "Number of faces detected: 1\n",
      "Number of faces detected: 1\n",
      "Number of faces detected: 1\n",
      "Number of faces detected: 1\n",
      "Number of faces detected: 1\n",
      "Number of faces detected: 1\n",
      "Number of faces detected: 1\n",
      "Number of faces detected: 1\n",
      "Number of faces detected: 1\n",
      "Number of faces detected: 1\n",
      "Number of faces detected: 1\n",
      "Number of faces detected: 1\n"
     ]
    }
   ],
   "source": [
    "# generating vectors for gallery\n",
    "\n",
    "gallery_descriptors = get_descriptors(imgs_path = gallery, face_detector = cnn_face_detector, shape_predictor = predictor, face_recognizer = face_rec)\n",
    "# Normalize the embedding to something pandas can store (flatten to list or keep as ndarray)\n",
    "for row in gallery_descriptors:\n",
    "    row[\"face descriptor\"] = np.asarray(row[\"face descriptor\"])  # just ensure it's ndarray\n",
    "\n",
    "# Build the DataFrame directly\n",
    "gallery_df = pd.DataFrame(gallery_descriptors)\n",
    "\n",
    "# Pickle the DataFrame to disk\n",
    "gallery_df.to_pickle(\"gallery_embeddings.pkl\")"
   ]
  },
  {
   "cell_type": "code",
   "execution_count": null,
   "id": "e745c812",
   "metadata": {},
   "outputs": [],
   "source": []
  }
 ],
 "metadata": {
  "kernelspec": {
   "display_name": "lightweight-xray-mtcnn-dlib (3.13.7)",
   "language": "python",
   "name": "python3"
  },
  "language_info": {
   "codemirror_mode": {
    "name": "ipython",
    "version": 3
   },
   "file_extension": ".py",
   "mimetype": "text/x-python",
   "name": "python",
   "nbconvert_exporter": "python",
   "pygments_lexer": "ipython3",
   "version": "3.13.7"
  }
 },
 "nbformat": 4,
 "nbformat_minor": 5
}
